{
  "metadata": {
    "kernelspec": {
      "name": "python",
      "display_name": "Python (Pyodide)",
      "language": "python"
    },
    "language_info": {
      "codemirror_mode": {
        "name": "python",
        "version": 3
      },
      "file_extension": ".py",
      "mimetype": "text/x-python",
      "name": "python",
      "nbconvert_exporter": "python",
      "pygments_lexer": "ipython3",
      "version": "3.8"
    }
  },
  "nbformat_minor": 5,
  "nbformat": 4,
  "cells": [
    {
      "id": "4a3cd9b2-3854-468f-9540-956ecb1e7d4b",
      "cell_type": "code",
      "source": "%pip install pyproject2spack",
      "metadata": {
        "trusted": true
      },
      "outputs": [],
      "execution_count": 6
    },
    {
      "id": "b7db3309-2487-40d7-97fb-16cd43c0a9dd",
      "cell_type": "code",
      "source": "import pyproject2spack\npyproject2spack.__version__",
      "metadata": {
        "trusted": true
      },
      "outputs": [
        {
          "execution_count": 7,
          "output_type": "execute_result",
          "data": {
            "text/plain": "'1.5.0'"
          },
          "metadata": {}
        }
      ],
      "execution_count": 7
    },
    {
      "id": "21580870-3ec8-4114-80d8-a1cdaa2b9fea",
      "cell_type": "code",
      "source": "from js import fetch\nimport asyncio",
      "metadata": {
        "trusted": true
      },
      "outputs": [],
      "execution_count": 8
    },
    {
      "id": "da88e357-279d-416f-9964-78ade7b5a7db",
      "cell_type": "code",
      "source": "pyproject_url = \"https://gitlab.com/ska-telescope/sdp/science-pipeline-workflows/ska-sdp-instrumental-calibration/-/raw/main/pyproject.toml\"\nproxy_url = \"https://cors-anywhere.herokuapp.com/\"\nfetch_url = proxy_url + pyproject_url\n\nasync def fetch_file_with_proxy(url):\n    response = await fetch(url)\n    if not response.ok:\n        raise ValueError(f\"Failed to fetch file: {response.status}\")\n    return await response.text()\n\ncontent = await fetch_file_with_proxy(fetch_url)\nprint(content)",
      "metadata": {
        "trusted": true,
        "scrolled": true
      },
      "outputs": [
        {
          "name": "stdout",
          "output_type": "stream",
          "text": "[project]\nname = \"ska-sdp-instrumental-calibration\"\nversion = \"0.1.4\"\ndescription = \"SKA Instrumental Calibration Pipeline\"\nauthors = [\n    { name = \"Daniel Mitchell\", email = \"daniel.mitchell@csiro.au\" },\n    { name = \"Stephen Ord\", email = \"stephen.ord@csiro.au\" },\n]\n\n[tool.poetry]\nname = \"ska-sdp-instrumental-calibration\"\nversion = \"0.1.4\"\ndescription = \"SKA Instrumental Calibration Pipeline\"\nauthors = [\"Daniel Mitchell <daniel.mitchell@csiro.au>\", \"Stephen Ord <stephen.ord@csiro.au>\"]\nlicense = \"BSD-3-Clause\"\npackages = [\n    { include = \"ska_sdp_instrumental_calibration\", from = \"src\" }\n]\n\n[[tool.poetry.source]]\nname = 'skao'\nurl = 'https://artefact.skao.int/repository/pypi-internal/simple'\n\n[[tool.poetry.source]]\nname = \"PyPI-public\"\nurl = 'https://pypi.org/simple'\n\n[tool.poetry.dependencies]\npython = \"^3.10\"\nastropy = \"^6.1\"\ndistributed = \"^2024.11.2\"\neverybeam = \"^0.6.1\"\nnbmake = \"^1.4.1\"\nnbqa = \"^1.7.0\"\nisort = \"^5.6.4\"\nflake8 = \"^7.1.0\"\nblack = \"^24.10.0\"\nnumpy = \"^1.25.4\"\nsetuptools-scm = \"^7.1.0\"\njsonschema = \"^4.18.4\"\nmatplotlib = \"^3.9.1\"\npytest-json-report = \"^1.5.0\"\npytest-cov = \"^6.0.0\"\npylint = \"^3.3.1\"\npytest-json = \"^0.4.0\"\nrecommonmark = \"^0.7.1\"\nska-sdp-datamodels = \"^0.3.2\"\npython-casacore = \"^3.5\"\nska-sdp-func = \"^1.2\"\nska-sdp-func-python = \"^0.5.1\"\npylance = \"^0.5.9\"\nxarray = \"^2024.7\"\n\n# needed for testing\nattrs = \"^23.2.0\"\nreferencing = \"^0.35.1\"\nrpds-py = \"^0.20.1\"\njsonschema_specifications = \"^2024.10.1\"\n\n[tool.poetry.extras]\npython-casacore = [\"python-casacore\"]\nska-sdp-func = [\"ska-sdp-func\"]\n\n[tool.poetry.group.dev.dependencies]\ndocutils = \"^0.21.2\"\nmarkupsafe = \"^2.1.3\"\npygments = \"^2.15.1\"\npylint = \"^3.3.1\"\npytest = \"^8.3.3\"\npytest-cov = \"^6.0.0\"\npytest-pylint = \"^0.21.0\"\npython-dotenv = \">=0.5.1\"\nsetuptools = \"^68.0.0\"\npipdeptree = \"^2.10.2\"\npylint-junit = \"^0.3.2\"\n\n[tool.poetry.group.docs.dependencies]\nsphinx = \"^8.1\"\nsphinx-autobuild = \"^2021.3.14\"\nsphinx-autodoc-typehints = \"^2.1.0\"\nsphinx-rtd-theme = \"^3.0.1\"\nsphinxcontrib-websupport = \"^1.2.4\"\nrecommonmark = \"^0.7.1\"\nnumpy = \"^1.25.4\"\nska-sdp-datamodels = \"^0.3.2\"\nska-sdp-func-python = \"^0.5.1\"\nxarray = \"^2024.7\"\neverybeam = \"^0.6.1\"\n\n[build-system]\nrequires = [\"poetry-core>=1.0.0\"]\nbuild-backend = \"poetry.core.masonry.api\"\n\n\n"
        }
      ],
      "execution_count": 9
    },
    {
      "id": "ce97a3f8-0cc3-4fcf-8589-aaa92fc1bd28",
      "cell_type": "code",
      "source": "from pyproject2spack.parser.pyproject import PyProject\nfrom pyproject2spack.matcher.spack import Spack\nfrom pyproject2spack.logger.logger import ColorFormatter, FixedLineHandler",
      "metadata": {
        "trusted": true
      },
      "outputs": [],
      "execution_count": 10
    },
    {
      "id": "29c70387-7214-4d21-9e63-84a44b1e8634",
      "cell_type": "code",
      "source": "import logging",
      "metadata": {
        "trusted": true
      },
      "outputs": [],
      "execution_count": 11
    },
    {
      "id": "2b95eb5e-5f36-4990-b6ca-e505cdf14632",
      "cell_type": "code",
      "source": "log_fmt_str = \"%(asctime)s%(name)s%(filename)s%(levelname)s%(message)s\"\nroot_logger = logging.getLogger()\nfor handler in root_logger.handlers[:]:\n    root_logger.removeHandler(handler)\nroot_logger.setLevel(logging.ERROR)\n\nhandler = FixedLineHandler(max_lines=0, delay=0)\nhandler.setFormatter(ColorFormatter(log_fmt_str))\nroot_logger.addHandler(handler)",
      "metadata": {
        "trusted": true
      },
      "outputs": [],
      "execution_count": 13
    },
    {
      "id": "08ab8cef-f42b-4ee3-ba90-4e3104e33dba",
      "cell_type": "code",
      "source": "import pprint",
      "metadata": {
        "trusted": true
      },
      "outputs": [],
      "execution_count": 14
    },
    {
      "id": "28cd65b1-3dd3-45b0-9ad6-0fc2f7d7161f",
      "cell_type": "code",
      "source": "prj = PyProject(raw_content=content)\nconstraints = prj.dependencies()\nmetadata = prj.metadata()\n\nmatcher = Spack(constraints=constraints)\nmatches = matcher.match()",
      "metadata": {
        "trusted": true
      },
      "outputs": [],
      "execution_count": 18
    },
    {
      "id": "14c920aa-b78d-4a47-a923-fdb482b594cc",
      "cell_type": "code",
      "source": "print(matches.keys())",
      "metadata": {
        "trusted": true
      },
      "outputs": [
        {
          "name": "stdout",
          "output_type": "stream",
          "text": "dict_keys(['main', 'dev', 'docs'])\n"
        }
      ],
      "execution_count": 21
    },
    {
      "id": "326342d8-d708-42b0-9903-96d6ab2d9042",
      "cell_type": "code",
      "source": "print(matches[\"main\"].keys())\nprint(matches[\"dev\"].keys())\nprint(matches[\"docs\"].keys())",
      "metadata": {
        "trusted": true
      },
      "outputs": [
        {
          "name": "stdout",
          "output_type": "stream",
          "text": "dict_keys(['constraint_found', 'constraint_not_found', 'package_not_found'])\ndict_keys(['constraint_found', 'constraint_not_found', 'package_not_found'])\ndict_keys(['constraint_found', 'constraint_not_found', 'package_not_found'])\n"
        }
      ],
      "execution_count": 23
    },
    {
      "id": "243c9d7e-6100-4d46-90aa-01981f2a7741",
      "cell_type": "code",
      "source": "pprint.pprint(matches)",
      "metadata": {
        "trusted": true,
        "scrolled": true
      },
      "outputs": [
        {
          "name": "stdout",
          "output_type": "stream",
          "text": "{'dev': {'constraint_found': [{'latest_version': <Version('2.1.3')>,\n'name': 'py-markupsafe',       \n'version': <Version('2.1.3')>, \n'versions_string_values': []}, \n{'latest_version': <Version('2.18.0')>,\n'name': 'py-pygments',         \n'version': <Version('2.15.1')>,\n'versions_string_values': []}, \n{'latest_version': <Version('0.21.0')>,\n'name': 'py-pytest-pylint',    \n'version': <Version('0.21.0')>,\n'versions_string_values': []}, \n{'latest_version': <Version('1.0.1')>,\n'name': 'py-python-dotenv',    \n'version': <Version('0.19.2')>,\n'versions_string_values': []}, \n{'latest_version': <Version('69.2.0')>,\n'name': 'py-setuptools',       \n'version': <Version('68.0.0')>,\n'versions_string_values': []}, \n{'latest_version': <Version('2.13.0')>,\n'name': 'py-pipdeptree',       \n'version': <Version('2.13.0')>,\n'versions_string_values': []}],\n'constraint_not_found': [{'latest_version': <Version('0.20.1')>,\n'name': 'py-docutils',             \n'version': <SpecifierSet('>=0.21.2')>,\n'versions_string_values': []},     \n{'latest_version': <Version('2.16.2')>,\n'name': 'py-pylint',               \n'version': <SpecifierSet('>=3.3.1')>,\n'versions_string_values': []},     \n{'latest_version': <Version('8.2.1')>,\n'name': 'py-pytest',               \n'version': <SpecifierSet('>=8.3.3')>,\n'versions_string_values': []},     \n{'latest_version': <Version('4.0.0')>,\n'name': 'py-pytest-cov',           \n'version': <SpecifierSet('>=6.0.0')>,\n'versions_string_values': []}],    \n'package_not_found': [{'latest_version': None,\n'name': 'py-pylint-junit',      \n'version': <SpecifierSet('>=0.3.2')>,\n'versions_string_values': []}]},\n'docs': {'constraint_found': [{'latest_version': <Version('8.1.0')>,\n'name': 'py-sphinx',            \n'version': <Version('8.1.0')>,  \n'versions_string_values': []},  \n{'latest_version': <Version('2.1.2')>,\n'name': 'py-numpy',             \n'version': <Version('1.26.0')>, \n'versions_string_values': []},  \n{'latest_version': <Version('0.3.3')>,\n'name': 'py-ska-sdp-datamodels',\n'version': <Version('0.3.3')>,  \n'versions_string_values': []},  \n{'latest_version': <Version('0.5.1')>,\n'name': 'py-ska-sdp-func-python',\n'version': <Version('0.5.1')>,  \n'versions_string_values': []},  \n{'latest_version': <Version('2024.7.0')>,\n'name': 'py-xarray',            \n'version': <Version('2024.7.0')>,\n'versions_string_values': []},  \n{'latest_version': <Version('0.6.1')>,\n'name': 'everybeam',            \n'version': <Version('0.6.1')>,  \n'versions_string_values': []}], \n'constraint_not_found': [{'latest_version': <Version('1.12.0')>,\n'name': 'py-sphinx-autodoc-typehints',\n'version': <SpecifierSet('>=2.1.0')>,\n'versions_string_values': []},      \n{'latest_version': <Version('1.2.2')>,\n'name': 'py-sphinx-rtd-theme',      \n'version': <SpecifierSet('>=3.0.1')>,\n'versions_string_values': []},      \n{'latest_version': <Version('1.1.2')>,\n'name': 'py-sphinxcontrib-websupport',\n'version': <SpecifierSet('>=1.2.4')>,\n'versions_string_values': []},      \n{'latest_version': <Version('0.6.0')>,\n'name': 'py-recommonmark',          \n'version': <SpecifierSet('>=0.7.1')>,\n'versions_string_values': []}],     \n'package_not_found': [{'latest_version': None,\n'name': 'py-sphinx-autobuild',   \n'version': <SpecifierSet('>=2021.3.14')>,\n'versions_string_values': []}]}, \n'main': {'constraint_found': [{'latest_version': <Version('3.13.0')>,\n'name': 'python',               \n'version': <Version('3.10.0')>, \n'versions_string_values': []},  \n{'latest_version': <Version('6.1.0')>,\n'name': 'py-astropy',           \n'version': <Version('6.1.0')>,  \n'versions_string_values': []},  \n{'latest_version': <Version('0.6.1')>,\n'name': 'everybeam',            \n'version': <Version('0.6.1')>,  \n'versions_string_values': ['latest']},\n{'latest_version': <Version('1.4.3')>,\n'name': 'py-nbmake',            \n'version': <Version('1.4.1')>,  \n'versions_string_values': []},  \n{'latest_version': <Version('5.12.0')>,\n'name': 'py-isort',             \n'version': <Version('5.9.1')>,  \n'versions_string_values': []},  \n{'latest_version': <Version('2.1.2')>,\n'name': 'py-numpy',             \n'version': <Version('1.26.0')>, \n'versions_string_values': ['main']},\n{'latest_version': <Version('8.0.4')>,\n'name': 'py-setuptools-scm',    \n'version': <Version('7.1.0')>,  \n'versions_string_values': []},  \n{'latest_version': <Version('4.22.0')>,\n'name': 'py-jsonschema',        \n'version': <Version('4.18.6')>, \n'versions_string_values': []},  \n{'latest_version': <Version('3.9.2')>,\n'name': 'py-matplotlib',        \n'version': <Version('3.9.1')>,  \n'versions_string_values': []},  \n{'latest_version': <Version('0.3.3')>,\n'name': 'py-ska-sdp-datamodels',\n'version': <Version('0.3.3')>,  \n'versions_string_values': ['develop']},\n{'latest_version': <Version('1.2.2')>,\n'name': 'py-ska-sdp-func',      \n'version': <Version('1.2.0')>,  \n'versions_string_values': ['develop']},\n{'latest_version': <Version('0.5.1')>,\n'name': 'py-ska-sdp-func-python',\n'version': <Version('0.5.1')>,  \n'versions_string_values': ['develop']},\n{'latest_version': <Version('2024.7.0')>,\n'name': 'py-xarray',            \n'version': <Version('2024.7.0')>,\n'versions_string_values': []},  \n{'latest_version': <Version('0.35.1')>,\n'name': 'py-referencing',       \n'version': <Version('0.35.1')>, \n'versions_string_values': []}], \n'constraint_not_found': [{'latest_version': <Version('2024.7.1')>,\n'name': 'py-distributed',           \n'version': <SpecifierSet('>=2024.11.2')>,\n'versions_string_values': []},      \n{'latest_version': <Version('1.6.3')>,\n'name': 'py-nbqa',                  \n'version': <SpecifierSet('>=1.7.0')>,\n'versions_string_values': []},      \n{'latest_version': <Version('6.1.0')>,\n'name': 'py-flake8',                \n'version': <SpecifierSet('>=7.1.0')>,\n'versions_string_values': []},      \n{'latest_version': <Version('24.3.0')>,\n'name': 'py-black',                 \n'version': <SpecifierSet('>=24.10.0')>,\n'versions_string_values': []},      \n{'latest_version': <Version('4.0.0')>,\n'name': 'py-pytest-cov',            \n'version': <SpecifierSet('>=6.0.0')>,\n'versions_string_values': []},      \n{'latest_version': <Version('2.16.2')>,\n'name': 'py-pylint',                \n'version': <SpecifierSet('>=3.3.1')>,\n'versions_string_values': []},      \n{'latest_version': <Version('0.6.0')>,\n'name': 'py-recommonmark',          \n'version': <SpecifierSet('>=0.7.1')>,\n'versions_string_values': []},      \n{'latest_version': <Version('23.1.0')>,\n'name': 'py-attrs',                 \n'version': <SpecifierSet('>=23.2.0')>,\n'versions_string_values': []},      \n{'latest_version': <Version('0.20.0')>,\n'name': 'py-rpds-py',               \n'version': <SpecifierSet('>=0.20.1')>,\n'versions_string_values': []},      \n{'latest_version': <Version('2023.12.1')>,\n'name': 'py-jsonschema-specifications',\n'version': <SpecifierSet('>=2024.10.1')>,\n'versions_string_values': []}],     \n'package_not_found': [{'latest_version': None,\n'name': 'py-pytest-json-report', \n'version': <SpecifierSet('>=1.5.0')>,\n'versions_string_values': []},   \n{'latest_version': None,        \n'name': 'py-pytest-json',        \n'version': <SpecifierSet('>=0.4.0')>,\n'versions_string_values': []},   \n{'latest_version': None,        \n'name': 'py-python-casacore',    \n'version': <SpecifierSet('>=3.5')>,\n'versions_string_values': []},   \n{'latest_version': None,        \n'name': 'py-pylance',            \n'version': <SpecifierSet('>=0.5.9')>,\n'versions_string_values': []}]}} \n"
        }
      ],
      "execution_count": 25
    },
    {
      "id": "b950419c-033b-4e42-a646-b99d651bd71d",
      "cell_type": "code",
      "source": "pprint.pprint(matches[\"main\"][\"constraint_found\"])",
      "metadata": {
        "trusted": true,
        "scrolled": true
      },
      "outputs": [
        {
          "name": "stdout",
          "output_type": "stream",
          "text": "[{'latest_version': <Version('3.13.0')>,\n'name': 'python',\n'version': <Version('3.10.0')>,\n'versions_string_values': []},\n{'latest_version': <Version('6.1.0')>,\n'name': 'py-astropy',\n'version': <Version('6.1.0')>,\n'versions_string_values': []},\n{'latest_version': <Version('0.6.1')>,\n'name': 'everybeam',\n'version': <Version('0.6.1')>,\n'versions_string_values': ['latest']},\n{'latest_version': <Version('1.4.3')>,\n'name': 'py-nbmake',\n'version': <Version('1.4.1')>,\n'versions_string_values': []},\n{'latest_version': <Version('5.12.0')>,\n'name': 'py-isort',\n'version': <Version('5.9.1')>,\n'versions_string_values': []},\n{'latest_version': <Version('2.1.2')>,\n'name': 'py-numpy',\n'version': <Version('1.26.0')>,\n'versions_string_values': ['main']},\n{'latest_version': <Version('8.0.4')>,\n'name': 'py-setuptools-scm',\n'version': <Version('7.1.0')>,\n'versions_string_values': []},\n{'latest_version': <Version('4.22.0')>,\n'name': 'py-jsonschema',\n'version': <Version('4.18.6')>,\n'versions_string_values': []},\n{'latest_version': <Version('3.9.2')>,\n'name': 'py-matplotlib',\n'version': <Version('3.9.1')>,\n'versions_string_values': []},\n{'latest_version': <Version('0.3.3')>,\n'name': 'py-ska-sdp-datamodels',\n'version': <Version('0.3.3')>,\n'versions_string_values': ['develop']},\n{'latest_version': <Version('1.2.2')>,\n'name': 'py-ska-sdp-func',\n'version': <Version('1.2.0')>,\n'versions_string_values': ['develop']},\n{'latest_version': <Version('0.5.1')>,\n'name': 'py-ska-sdp-func-python',\n'version': <Version('0.5.1')>,\n'versions_string_values': ['develop']},\n{'latest_version': <Version('2024.7.0')>,\n'name': 'py-xarray',\n'version': <Version('2024.7.0')>,\n'versions_string_values': []},\n{'latest_version': <Version('0.35.1')>,\n'name': 'py-referencing',\n'version': <Version('0.35.1')>,\n'versions_string_values': []}]\n"
        }
      ],
      "execution_count": 26
    },
    {
      "id": "d46eb2f8-637f-4d28-b83c-d187b50fcf89",
      "cell_type": "code",
      "source": "pprint.pprint(matches[\"main\"][\"constraint_not_found\"])",
      "metadata": {
        "trusted": true,
        "scrolled": true
      },
      "outputs": [
        {
          "name": "stdout",
          "output_type": "stream",
          "text": "[{'latest_version': <Version('2024.7.1')>,\n'name': 'py-distributed',\n'version': <SpecifierSet('>=2024.11.2')>,\n'versions_string_values': []},\n{'latest_version': <Version('1.6.3')>,\n'name': 'py-nbqa',\n'version': <SpecifierSet('>=1.7.0')>,\n'versions_string_values': []},\n{'latest_version': <Version('6.1.0')>,\n'name': 'py-flake8',\n'version': <SpecifierSet('>=7.1.0')>,\n'versions_string_values': []},\n{'latest_version': <Version('24.3.0')>,\n'name': 'py-black',\n'version': <SpecifierSet('>=24.10.0')>,\n'versions_string_values': []},\n{'latest_version': <Version('4.0.0')>,\n'name': 'py-pytest-cov',\n'version': <SpecifierSet('>=6.0.0')>,\n'versions_string_values': []},\n{'latest_version': <Version('2.16.2')>,\n'name': 'py-pylint',\n'version': <SpecifierSet('>=3.3.1')>,\n'versions_string_values': []},\n{'latest_version': <Version('0.6.0')>,\n'name': 'py-recommonmark',\n'version': <SpecifierSet('>=0.7.1')>,\n'versions_string_values': []},\n{'latest_version': <Version('23.1.0')>,\n'name': 'py-attrs',\n'version': <SpecifierSet('>=23.2.0')>,\n'versions_string_values': []},\n{'latest_version': <Version('0.20.0')>,\n'name': 'py-rpds-py',\n'version': <SpecifierSet('>=0.20.1')>,\n'versions_string_values': []},\n{'latest_version': <Version('2023.12.1')>,\n'name': 'py-jsonschema-specifications',\n'version': <SpecifierSet('>=2024.10.1')>,\n'versions_string_values': []}]\n"
        }
      ],
      "execution_count": 27
    },
    {
      "id": "19c2e88a-c246-4816-966c-110788e063e0",
      "cell_type": "code",
      "source": "pprint.pprint(matches[\"main\"][\"package_not_found\"])",
      "metadata": {
        "trusted": true
      },
      "outputs": [
        {
          "name": "stdout",
          "output_type": "stream",
          "text": "[{'latest_version': None,\n'name': 'py-pytest-json-report',\n'version': <SpecifierSet('>=1.5.0')>,\n'versions_string_values': []},\n{'latest_version': None,\n'name': 'py-pytest-json',\n'version': <SpecifierSet('>=0.4.0')>,\n'versions_string_values': []},\n{'latest_version': None,\n'name': 'py-python-casacore',\n'version': <SpecifierSet('>=3.5')>,\n'versions_string_values': []},\n{'latest_version': None,\n'name': 'py-pylance',\n'version': <SpecifierSet('>=0.5.9')>,\n'versions_string_values': []}]\n"
        }
      ],
      "execution_count": 28
    },
    {
      "id": "c0fec726-8cab-4443-8741-bd567b1a95ad",
      "cell_type": "code",
      "source": "",
      "metadata": {
        "trusted": true
      },
      "outputs": [],
      "execution_count": null
    }
  ]
}